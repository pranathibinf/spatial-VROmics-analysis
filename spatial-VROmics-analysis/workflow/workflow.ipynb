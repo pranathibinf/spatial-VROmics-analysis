{
  "nbformat": 4,
  "nbformat_minor": 0,
  "metadata": {
    "colab": {
      "provenance": []
    },
    "kernelspec": {
      "name": "python3",
      "display_name": "Python 3"
    },
    "language_info": {
      "name": "python"
    }
  },
  "cells": [
    {
      "cell_type": "code",
      "source": [
        "# ========================\n",
        "# Step 1. Mount Google Drive\n",
        "# ========================\n",
        "from google.colab import drive\n",
        "import os\n",
        "\n",
        "drive.mount('/content/drive')\n",
        "\n",
        "# Project structure\n",
        "proj_dir = \"/content/drive/MyDrive/spatial-VROmics-analysis\"\n",
        "data_dir = os.path.join(proj_dir, \"data\")\n",
        "wf_dir = os.path.join(proj_dir, \"workflow\")\n",
        "out_dir = os.path.join(wf_dir, \"outputs\")\n",
        "\n",
        "os.makedirs(data_dir, exist_ok=True)\n",
        "os.makedirs(out_dir, exist_ok=True)\n",
        "\n",
        "print(\"Project dir:\", proj_dir)\n",
        "print(\"Data dir:\", data_dir)\n",
        "print(\"Workflow dir:\", wf_dir)\n",
        "print(\"Outputs dir:\", out_dir)"
      ],
      "metadata": {
        "colab": {
          "base_uri": "https://localhost:8080/"
        },
        "id": "ivqQ2ZsEufDK",
        "outputId": "ecaa50f9-2c73-40f3-87a6-e5c25bb0201b"
      },
      "execution_count": 19,
      "outputs": [
        {
          "output_type": "stream",
          "name": "stdout",
          "text": [
            "Drive already mounted at /content/drive; to attempt to forcibly remount, call drive.mount(\"/content/drive\", force_remount=True).\n",
            "Project dir: /content/drive/MyDrive/spatial-VROmics-analysis\n",
            "Data dir: /content/drive/MyDrive/spatial-VROmics-analysis/data\n",
            "Workflow dir: /content/drive/MyDrive/spatial-VROmics-analysis/workflow\n",
            "Outputs dir: /content/drive/MyDrive/spatial-VROmics-analysis/workflow/outputs\n"
          ]
        }
      ]
    },
    {
      "cell_type": "code",
      "source": [
        "# ========================\n",
        "# Step 2. Download dataset from 10x Genomics\n",
        "# ========================\n",
        "!wget -O /content/drive/MyDrive/spatial-VROmics-analysis/data/V1_Human_Lymph_Node_filtered_feature_bc_matrix.h5 \\\n",
        "  https://cf.10xgenomics.com/samples/spatial-exp/1.1.0/V1_Human_Lymph_Node/V1_Human_Lymph_Node_filtered_feature_bc_matrix.h5"
      ],
      "metadata": {
        "colab": {
          "base_uri": "https://localhost:8080/"
        },
        "id": "xM8Bjcy1ufLI",
        "outputId": "0d718be2-fc95-4229-d920-e3fc72b9de8f"
      },
      "execution_count": 20,
      "outputs": [
        {
          "output_type": "stream",
          "name": "stdout",
          "text": [
            "--2025-08-27 14:46:11--  https://cf.10xgenomics.com/samples/spatial-exp/1.1.0/V1_Human_Lymph_Node/V1_Human_Lymph_Node_filtered_feature_bc_matrix.h5\n",
            "Resolving cf.10xgenomics.com (cf.10xgenomics.com)... 104.18.0.173, 104.18.1.173, 2606:4700::6812:ad, ...\n",
            "Connecting to cf.10xgenomics.com (cf.10xgenomics.com)|104.18.0.173|:443... connected.\n",
            "HTTP request sent, awaiting response... 200 OK\n",
            "Length: 30736856 (29M) [binary/octet-stream]\n",
            "Saving to: ‘/content/drive/MyDrive/spatial-VROmics-analysis/data/V1_Human_Lymph_Node_filtered_feature_bc_matrix.h5’\n",
            "\n",
            "/content/drive/MyDr 100%[===================>]  29.31M  50.3MB/s    in 0.6s    \n",
            "\n",
            "2025-08-27 14:46:12 (50.3 MB/s) - ‘/content/drive/MyDrive/spatial-VROmics-analysis/data/V1_Human_Lymph_Node_filtered_feature_bc_matrix.h5’ saved [30736856/30736856]\n",
            "\n"
          ]
        }
      ]
    },
    {
      "cell_type": "code",
      "source": [
        "# ========================\n",
        "# Step 3. Install dependencies\n",
        "# ========================\n",
        "!pip install -q --upgrade pip\n",
        "!pip install \"scanpy[leiden]\" seaborn matplotlib anndata h5py louvain"
      ],
      "metadata": {
        "colab": {
          "base_uri": "https://localhost:8080/"
        },
        "id": "s8G_ytrfxgfA",
        "outputId": "a9b397ca-7f12-44c1-9096-37aa923d4046"
      },
      "execution_count": 21,
      "outputs": [
        {
          "output_type": "stream",
          "name": "stdout",
          "text": [
            "Requirement already satisfied: seaborn in /usr/local/lib/python3.12/dist-packages (0.13.2)\n",
            "Requirement already satisfied: matplotlib in /usr/local/lib/python3.12/dist-packages (3.10.0)\n",
            "Requirement already satisfied: anndata in /usr/local/lib/python3.12/dist-packages (0.12.2)\n",
            "Requirement already satisfied: h5py in /usr/local/lib/python3.12/dist-packages (3.14.0)\n",
            "Requirement already satisfied: louvain in /usr/local/lib/python3.12/dist-packages (0.8.2)\n",
            "Requirement already satisfied: scanpy[leiden] in /usr/local/lib/python3.12/dist-packages (1.11.4)\n",
            "Requirement already satisfied: joblib in /usr/local/lib/python3.12/dist-packages (from scanpy[leiden]) (1.5.1)\n",
            "Requirement already satisfied: legacy-api-wrap>=1.4.1 in /usr/local/lib/python3.12/dist-packages (from scanpy[leiden]) (1.4.1)\n",
            "Requirement already satisfied: natsort in /usr/local/lib/python3.12/dist-packages (from scanpy[leiden]) (8.4.0)\n",
            "Requirement already satisfied: networkx>=2.7.1 in /usr/local/lib/python3.12/dist-packages (from scanpy[leiden]) (3.5)\n",
            "Requirement already satisfied: numba>=0.57.1 in /usr/local/lib/python3.12/dist-packages (from scanpy[leiden]) (0.60.0)\n",
            "Requirement already satisfied: numpy>=1.24.1 in /usr/local/lib/python3.12/dist-packages (from scanpy[leiden]) (2.0.2)\n",
            "Requirement already satisfied: packaging>=21.3 in /usr/local/lib/python3.12/dist-packages (from scanpy[leiden]) (25.0)\n",
            "Requirement already satisfied: pandas>=1.5.3 in /usr/local/lib/python3.12/dist-packages (from scanpy[leiden]) (2.2.2)\n",
            "Requirement already satisfied: patsy!=1.0.0 in /usr/local/lib/python3.12/dist-packages (from scanpy[leiden]) (1.0.1)\n",
            "Requirement already satisfied: pynndescent>=0.5.13 in /usr/local/lib/python3.12/dist-packages (from scanpy[leiden]) (0.5.13)\n",
            "Requirement already satisfied: scikit-learn>=1.1.3 in /usr/local/lib/python3.12/dist-packages (from scanpy[leiden]) (1.6.1)\n",
            "Requirement already satisfied: scipy>=1.8.1 in /usr/local/lib/python3.12/dist-packages (from scanpy[leiden]) (1.16.1)\n",
            "Requirement already satisfied: session-info2 in /usr/local/lib/python3.12/dist-packages (from scanpy[leiden]) (0.2.1)\n",
            "Requirement already satisfied: statsmodels>=0.14.5 in /usr/local/lib/python3.12/dist-packages (from scanpy[leiden]) (0.14.5)\n",
            "Requirement already satisfied: tqdm in /usr/local/lib/python3.12/dist-packages (from scanpy[leiden]) (4.67.1)\n",
            "Requirement already satisfied: typing-extensions in /usr/local/lib/python3.12/dist-packages (from scanpy[leiden]) (4.14.1)\n",
            "Requirement already satisfied: umap-learn>=0.5.6 in /usr/local/lib/python3.12/dist-packages (from scanpy[leiden]) (0.5.9.post2)\n",
            "Requirement already satisfied: igraph>=0.10.8 in /usr/local/lib/python3.12/dist-packages (from scanpy[leiden]) (0.11.9)\n",
            "Requirement already satisfied: leidenalg>=0.9.0 in /usr/local/lib/python3.12/dist-packages (from scanpy[leiden]) (0.10.2)\n",
            "Requirement already satisfied: contourpy>=1.0.1 in /usr/local/lib/python3.12/dist-packages (from matplotlib) (1.3.3)\n",
            "Requirement already satisfied: cycler>=0.10 in /usr/local/lib/python3.12/dist-packages (from matplotlib) (0.12.1)\n",
            "Requirement already satisfied: fonttools>=4.22.0 in /usr/local/lib/python3.12/dist-packages (from matplotlib) (4.59.1)\n",
            "Requirement already satisfied: kiwisolver>=1.3.1 in /usr/local/lib/python3.12/dist-packages (from matplotlib) (1.4.9)\n",
            "Requirement already satisfied: pillow>=8 in /usr/local/lib/python3.12/dist-packages (from matplotlib) (11.3.0)\n",
            "Requirement already satisfied: pyparsing>=2.3.1 in /usr/local/lib/python3.12/dist-packages (from matplotlib) (3.2.3)\n",
            "Requirement already satisfied: python-dateutil>=2.7 in /usr/local/lib/python3.12/dist-packages (from matplotlib) (2.9.0.post0)\n",
            "Requirement already satisfied: array-api-compat>=1.7.1 in /usr/local/lib/python3.12/dist-packages (from anndata) (1.12.0)\n",
            "Requirement already satisfied: zarr!=3.0.*,>=2.18.7 in /usr/local/lib/python3.12/dist-packages (from anndata) (3.1.2)\n",
            "Requirement already satisfied: texttable>=1.6.2 in /usr/local/lib/python3.12/dist-packages (from igraph>=0.10.8->scanpy[leiden]) (1.7.0)\n",
            "Requirement already satisfied: llvmlite<0.44,>=0.43.0dev0 in /usr/local/lib/python3.12/dist-packages (from numba>=0.57.1->scanpy[leiden]) (0.43.0)\n",
            "Requirement already satisfied: pytz>=2020.1 in /usr/local/lib/python3.12/dist-packages (from pandas>=1.5.3->scanpy[leiden]) (2025.2)\n",
            "Requirement already satisfied: tzdata>=2022.7 in /usr/local/lib/python3.12/dist-packages (from pandas>=1.5.3->scanpy[leiden]) (2025.2)\n",
            "Requirement already satisfied: six>=1.5 in /usr/local/lib/python3.12/dist-packages (from python-dateutil>=2.7->matplotlib) (1.17.0)\n",
            "Requirement already satisfied: threadpoolctl>=3.1.0 in /usr/local/lib/python3.12/dist-packages (from scikit-learn>=1.1.3->scanpy[leiden]) (3.6.0)\n",
            "Requirement already satisfied: donfig>=0.8 in /usr/local/lib/python3.12/dist-packages (from zarr!=3.0.*,>=2.18.7->anndata) (0.8.1.post1)\n",
            "Requirement already satisfied: numcodecs>=0.14 in /usr/local/lib/python3.12/dist-packages (from numcodecs[crc32c]>=0.14->zarr!=3.0.*,>=2.18.7->anndata) (0.16.2)\n",
            "Requirement already satisfied: pyyaml in /usr/local/lib/python3.12/dist-packages (from donfig>=0.8->zarr!=3.0.*,>=2.18.7->anndata) (6.0.2)\n",
            "Requirement already satisfied: crc32c>=2.7 in /usr/local/lib/python3.12/dist-packages (from numcodecs[crc32c]>=0.14->zarr!=3.0.*,>=2.18.7->anndata) (2.7.1)\n"
          ]
        }
      ]
    },
    {
      "cell_type": "code",
      "source": [
        "# ========================\n",
        "# Step 4. Import libraries and load dataset\n",
        "# ========================\n",
        "import scanpy as sc\n",
        "import seaborn as sns\n",
        "import matplotlib.pyplot as plt\n",
        "\n",
        "# Load the .h5 file into AnnData\n",
        "adata = sc.read_10x_h5(\n",
        "    \"/content/drive/MyDrive/spatial-VROmics-analysis/data/V1_Human_Lymph_Node_filtered_feature_bc_matrix.h5\"\n",
        ")\n",
        "print(adata)  # should print cells × genes"
      ],
      "metadata": {
        "colab": {
          "base_uri": "https://localhost:8080/"
        },
        "id": "rCZte-2Cyi7T",
        "outputId": "d56ad943-0b4f-465f-f43c-030334661498"
      },
      "execution_count": 22,
      "outputs": [
        {
          "output_type": "stream",
          "name": "stderr",
          "text": [
            "/usr/local/lib/python3.12/dist-packages/anndata/_core/anndata.py:1793: UserWarning: Variable names are not unique. To make them unique, call `.var_names_make_unique`.\n",
            "  utils.warn_names_duplicates(\"var\")\n"
          ]
        },
        {
          "output_type": "stream",
          "name": "stdout",
          "text": [
            "AnnData object with n_obs × n_vars = 4035 × 36601\n",
            "    var: 'gene_ids', 'feature_types', 'genome'\n"
          ]
        },
        {
          "output_type": "stream",
          "name": "stderr",
          "text": [
            "/usr/local/lib/python3.12/dist-packages/anndata/_core/anndata.py:1793: UserWarning: Variable names are not unique. To make them unique, call `.var_names_make_unique`.\n",
            "  utils.warn_names_duplicates(\"var\")\n"
          ]
        }
      ]
    },
    {
      "cell_type": "code",
      "source": [
        "# ========================\n",
        "# Step 5. Preprocessing\n",
        "# ========================\n",
        "sc.pp.filter_cells(adata, min_genes=200)\n",
        "sc.pp.filter_genes(adata, min_cells=3)\n",
        "\n",
        "sc.pp.normalize_total(adata, target_sum=1e4)\n",
        "sc.pp.log1p(adata)\n",
        "\n",
        "sc.pp.highly_variable_genes(adata, n_top_genes=2000)\n",
        "adata = adata[:, adata.var.highly_variable]\n",
        "\n",
        "# Save intermediate\n",
        "adata.write(os.path.join(out_dir, \"lymph_node_preprocessed.h5ad\"))"
      ],
      "metadata": {
        "colab": {
          "base_uri": "https://localhost:8080/"
        },
        "id": "kigcLa6Iyi3Y",
        "outputId": "2ce28765-5440-496e-b404-38e09e48e69f"
      },
      "execution_count": 23,
      "outputs": [
        {
          "output_type": "stream",
          "name": "stderr",
          "text": [
            "/usr/local/lib/python3.12/dist-packages/anndata/_core/anndata.py:1793: UserWarning: Variable names are not unique. To make them unique, call `.var_names_make_unique`.\n",
            "  utils.warn_names_duplicates(\"var\")\n",
            "/usr/local/lib/python3.12/dist-packages/anndata/_core/anndata.py:1793: UserWarning: Variable names are not unique. To make them unique, call `.var_names_make_unique`.\n",
            "  utils.warn_names_duplicates(\"var\")\n",
            "/usr/local/lib/python3.12/dist-packages/anndata/_core/anndata.py:1175: ImplicitModificationWarning: Trying to modify attribute `.var` of view, initializing view as actual.\n",
            "  df[key] = c\n",
            "/usr/local/lib/python3.12/dist-packages/anndata/_core/anndata.py:1175: ImplicitModificationWarning: Trying to modify attribute `.var` of view, initializing view as actual.\n",
            "  df[key] = c\n"
          ]
        }
      ]
    },
    {
      "cell_type": "code",
      "source": [
        "# ========================\n",
        "# Step 6. PCA, neighbors, clustering, UMAP\n",
        "# ========================\n",
        "sc.pp.scale(adata, max_value=10)\n",
        "sc.tl.pca(adata, svd_solver='arpack')\n",
        "sc.pp.neighbors(adata, n_neighbors=10, n_pcs=40)\n",
        "sc.tl.umap(adata)\n",
        "sc.tl.leiden(adata, resolution=0.5)\n",
        "\n",
        "# Save cluster assignments\n",
        "adata.obs[['leiden']].to_csv(os.path.join(out_dir, \"clusters.csv\"))\n",
        "\n",
        "# UMAP plot\n",
        "sc.pl.umap(adata, color=['leiden'], save=\"_lymphnode.png\", show=False)\n",
        "print(\"✅ UMAP saved as umap_lymphnode.png in Scanpy's figures folder\")"
      ],
      "metadata": {
        "colab": {
          "base_uri": "https://localhost:8080/"
        },
        "id": "5mbhefQQufQU",
        "outputId": "f5b6c436-8f76-4c64-f245-27c05b49083a"
      },
      "execution_count": 24,
      "outputs": [
        {
          "output_type": "stream",
          "name": "stderr",
          "text": [
            "/usr/lib/python3.12/functools.py:912: UserWarning: zero-centering a sparse array/matrix densifies it.\n",
            "  return dispatch(args[0].__class__)(*args, **kw)\n"
          ]
        },
        {
          "output_type": "stream",
          "name": "stdout",
          "text": [
            "WARNING: saving figure to file figures/umap_lymphnode.png\n",
            "✅ UMAP saved as umap_lymphnode.png in Scanpy's figures folder\n"
          ]
        }
      ]
    },
    {
      "cell_type": "code",
      "source": [
        "# ========================\n",
        "# Step 7. Seaborn cluster size plot\n",
        "# ========================\n",
        "plt.figure(figsize=(6,4))\n",
        "sns.countplot(x=\"leiden\", data=adata.obs)\n",
        "plt.title(\"Cluster counts (Leiden)\")\n",
        "plt.savefig(os.path.join(out_dir, \"cluster_counts.png\"))\n",
        "plt.show()"
      ],
      "metadata": {
        "colab": {
          "base_uri": "https://localhost:8080/",
          "height": 410
        },
        "id": "VM_zZDUS_Z7E",
        "outputId": "c236a59a-f8d5-49df-9906-124e81aafa91"
      },
      "execution_count": 25,
      "outputs": [
        {
          "output_type": "display_data",
          "data": {
            "text/plain": [
              "<Figure size 600x400 with 1 Axes>"
            ],
            "image/png": "[encoded data removed]"
          },
          "metadata": {}
        }
      ]
    }
  ]
}